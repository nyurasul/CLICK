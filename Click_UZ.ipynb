{
  "cells": [
    {
      "cell_type": "code",
      "execution_count": 3,
      "metadata": {
        "id": "76MV0AAmAgmB"
      },
      "outputs": [],
      "source": [
        "import pandas as pd\n",
        "import numpy as np\n",
        "from numpy import random\n",
        "import gensim\n",
        "import nltk\n",
        "from xgboost import XGBClassifier\n",
        "from sklearn.model_selection import train_test_split\n",
        "from sklearn.metrics import accuracy_score\n",
        "from sklearn.feature_extraction.text import CountVectorizer, TfidfVectorizer\n",
        "from sklearn.metrics import accuracy_score, confusion_matrix\n",
        "import matplotlib.pyplot as plt\n",
        "from nltk.corpus import stopwords\n",
        "import re\n",
        "%matplotlib inline"
      ]
    },
    {
      "cell_type": "code",
      "execution_count": 4,
      "metadata": {
        "colab": {
          "base_uri": "https://localhost:8080/",
          "height": 424
        },
        "id": "NP3cSIcRAowN",
        "outputId": "d0827c4a-9bc2-4cc9-cdcb-8848ba302b61"
      },
      "outputs": [
        {
          "data": {
            "text/html": [
              "<div>\n",
              "<style scoped>\n",
              "    .dataframe tbody tr th:only-of-type {\n",
              "        vertical-align: middle;\n",
              "    }\n",
              "\n",
              "    .dataframe tbody tr th {\n",
              "        vertical-align: top;\n",
              "    }\n",
              "\n",
              "    .dataframe thead th {\n",
              "        text-align: right;\n",
              "    }\n",
              "</style>\n",
              "<table border=\"1\" class=\"dataframe\">\n",
              "  <thead>\n",
              "    <tr style=\"text-align: right;\">\n",
              "      <th></th>\n",
              "      <th>id</th>\n",
              "      <th>feedback_text</th>\n",
              "      <th>answer_text</th>\n",
              "    </tr>\n",
              "  </thead>\n",
              "  <tbody>\n",
              "    <tr>\n",
              "      <th>0</th>\n",
              "      <td>5</td>\n",
              "      <td>Töğirlab  bera olasizlami</td>\n",
              "      <td>Assalomu alaykum. Savolingizni aniqroq yozib y...</td>\n",
              "    </tr>\n",
              "    <tr>\n",
              "      <th>1</th>\n",
              "      <td>6</td>\n",
              "      <td>Pul oʻtkazayotgandim pul oʻtyabdi deb turibdi</td>\n",
              "      <td>Assalomu alaykum. Hurmatli mijoz, to'lovingiz ...</td>\n",
              "    </tr>\n",
              "    <tr>\n",
              "      <th>2</th>\n",
              "      <td>15</td>\n",
              "      <td>Firibgarlar kim</td>\n",
              "      <td>Assalomu alaykum. Savolingizni aniqroq yozib y...</td>\n",
              "    </tr>\n",
              "    <tr>\n",
              "      <th>3</th>\n",
              "      <td>18</td>\n",
              "      <td>Mani shotimdan pul yecildi digan xabar keldi l...</td>\n",
              "      <td>Assalomu alaykum. Xozir siz bilan bog'lanib, y...</td>\n",
              "    </tr>\n",
              "    <tr>\n",
              "      <th>4</th>\n",
              "      <td>23</td>\n",
              "      <td>Pul tushmadi ku</td>\n",
              "      <td>Assalomu alaykum. Savolingizni aniqroq yozib y...</td>\n",
              "    </tr>\n",
              "    <tr>\n",
              "      <th>...</th>\n",
              "      <td>...</td>\n",
              "      <td>...</td>\n",
              "      <td>...</td>\n",
              "    </tr>\n",
              "    <tr>\n",
              "      <th>15323</th>\n",
              "      <td>152176</td>\n",
              "      <td>Click uz2010</td>\n",
              "      <td>Assalomu alaykum. Qanday yordam bera olaman?</td>\n",
              "    </tr>\n",
              "    <tr>\n",
              "      <th>15324</th>\n",
              "      <td>152188</td>\n",
              "      <td>Ассалому алейкум</td>\n",
              "      <td>Assalomu alaykum. Qanday yordam bera olaman?</td>\n",
              "    </tr>\n",
              "    <tr>\n",
              "      <th>15325</th>\n",
              "      <td>152206</td>\n",
              "      <td>M</td>\n",
              "      <td>Assalomu alaykum. Qanday yordam bera olaman?</td>\n",
              "    </tr>\n",
              "    <tr>\n",
              "      <th>15326</th>\n",
              "      <td>152209</td>\n",
              "      <td>/start support_chat</td>\n",
              "      <td>Assalomu alaykum. Qanday yordam bera olaman?</td>\n",
              "    </tr>\n",
              "    <tr>\n",
              "      <th>15327</th>\n",
              "      <td>152211</td>\n",
              "      <td>Salom</td>\n",
              "      <td>Assalomu alaykum. Qanday yordam bera olaman?</td>\n",
              "    </tr>\n",
              "  </tbody>\n",
              "</table>\n",
              "<p>15328 rows × 3 columns</p>\n",
              "</div>"
            ],
            "text/plain": [
              "           id                                      feedback_text  \\\n",
              "0           5                          Töğirlab  bera olasizlami   \n",
              "1           6      Pul oʻtkazayotgandim pul oʻtyabdi deb turibdi   \n",
              "2          15                                    Firibgarlar kim   \n",
              "3          18  Mani shotimdan pul yecildi digan xabar keldi l...   \n",
              "4          23                                    Pul tushmadi ku   \n",
              "...       ...                                                ...   \n",
              "15323  152176                                       Click uz2010   \n",
              "15324  152188                                   Ассалому алейкум   \n",
              "15325  152206                                                  M   \n",
              "15326  152209                                /start support_chat   \n",
              "15327  152211                                              Salom   \n",
              "\n",
              "                                             answer_text  \n",
              "0      Assalomu alaykum. Savolingizni aniqroq yozib y...  \n",
              "1      Assalomu alaykum. Hurmatli mijoz, to'lovingiz ...  \n",
              "2      Assalomu alaykum. Savolingizni aniqroq yozib y...  \n",
              "3      Assalomu alaykum. Xozir siz bilan bog'lanib, y...  \n",
              "4      Assalomu alaykum. Savolingizni aniqroq yozib y...  \n",
              "...                                                  ...  \n",
              "15323       Assalomu alaykum. Qanday yordam bera olaman?  \n",
              "15324       Assalomu alaykum. Qanday yordam bera olaman?  \n",
              "15325       Assalomu alaykum. Qanday yordam bera olaman?  \n",
              "15326       Assalomu alaykum. Qanday yordam bera olaman?  \n",
              "15327       Assalomu alaykum. Qanday yordam bera olaman?  \n",
              "\n",
              "[15328 rows x 3 columns]"
            ]
          },
          "execution_count": 4,
          "metadata": {},
          "output_type": "execute_result"
        }
      ],
      "source": [
        "data = pd.read_csv('new.csv', delimiter=';', encoding='utf-8', on_bad_lines='skip')\n",
        "data"
      ]
    },
    {
      "cell_type": "code",
      "execution_count": 8,
      "metadata": {
        "id": "a6ZSK0exlzIB"
      },
      "outputs": [],
      "source": [
        "top_23_answers = data.groupby('answer_text').count().sort_values('feedback_text', ascending=False).head(23).drop('id', axis=1).reset_index()"
      ]
    },
    {
      "cell_type": "code",
      "execution_count": 9,
      "metadata": {
        "colab": {
          "base_uri": "https://localhost:8080/",
          "height": 363
        },
        "id": "jYfsbn5yD0Tt",
        "outputId": "7a8c3ca5-574f-430f-d265-980a8cff03db"
      },
      "outputs": [
        {
          "data": {
            "text/html": [
              "<div>\n",
              "<style scoped>\n",
              "    .dataframe tbody tr th:only-of-type {\n",
              "        vertical-align: middle;\n",
              "    }\n",
              "\n",
              "    .dataframe tbody tr th {\n",
              "        vertical-align: top;\n",
              "    }\n",
              "\n",
              "    .dataframe thead th {\n",
              "        text-align: right;\n",
              "    }\n",
              "</style>\n",
              "<table border=\"1\" class=\"dataframe\">\n",
              "  <thead>\n",
              "    <tr style=\"text-align: right;\">\n",
              "      <th></th>\n",
              "      <th>answer_text</th>\n",
              "      <th>count</th>\n",
              "    </tr>\n",
              "  </thead>\n",
              "  <tbody>\n",
              "    <tr>\n",
              "      <th>0</th>\n",
              "      <td>Assalomu alaykum. Savolingizni aniqroq yozib y...</td>\n",
              "      <td>1529</td>\n",
              "    </tr>\n",
              "    <tr>\n",
              "      <th>1</th>\n",
              "      <td>Assalomu alaykum. Xozir siz bilan bog'lanib, y...</td>\n",
              "      <td>1374</td>\n",
              "    </tr>\n",
              "    <tr>\n",
              "      <th>2</th>\n",
              "      <td>Assalomu alaykum. Hurmatli mijoz, to'lov tafsi...</td>\n",
              "      <td>1299</td>\n",
              "    </tr>\n",
              "    <tr>\n",
              "      <th>3</th>\n",
              "      <td>Assalomu alaykum. Bizda “To'lovlar ...</td>\n",
              "      <td>1172</td>\n",
              "    </tr>\n",
              "    <tr>\n",
              "      <th>4</th>\n",
              "      <td>Assalomu alaykum. Aynan qanday xatolik bo'lmoqda?</td>\n",
              "      <td>942</td>\n",
              "    </tr>\n",
              "    <tr>\n",
              "      <th>5</th>\n",
              "      <td>Assalomu alaykum. Agar kartangiz bizning tizim...</td>\n",
              "      <td>864</td>\n",
              "    </tr>\n",
              "    <tr>\n",
              "      <th>6</th>\n",
              "      <td>Assalomu alaykum. Mablag'ni yuborgan mijozimiz...</td>\n",
              "      <td>851</td>\n",
              "    </tr>\n",
              "    <tr>\n",
              "      <th>7</th>\n",
              "      <td>Salomat bo'ling.</td>\n",
              "      <td>839</td>\n",
              "    </tr>\n",
              "    <tr>\n",
              "      <th>8</th>\n",
              "      <td>Assalaamu alaykum. A garda Click Pin kodingizn...</td>\n",
              "      <td>828</td>\n",
              "    </tr>\n",
              "    <tr>\n",
              "      <th>9</th>\n",
              "      <td>Assalomu alaykum. Bizga hamyoni foallashtirish...</td>\n",
              "      <td>816</td>\n",
              "    </tr>\n",
              "    <tr>\n",
              "      <th>10</th>\n",
              "      <td>Assalomu alaykum. Qanday yordam bera olaman?</td>\n",
              "      <td>736</td>\n",
              "    </tr>\n",
              "    <tr>\n",
              "      <th>11</th>\n",
              "      <td>Assalomu alaykum! Click tizimiga ulanish uchun...</td>\n",
              "      <td>717</td>\n",
              "    </tr>\n",
              "    <tr>\n",
              "      <th>12</th>\n",
              "      <td>Assalomu alaykum. Hurmatli mijoz, agarda hamyo...</td>\n",
              "      <td>620</td>\n",
              "    </tr>\n",
              "    <tr>\n",
              "      <th>13</th>\n",
              "      <td>Assalomu alaykum. Botimizda “To'lovlar tarixi”...</td>\n",
              "      <td>594</td>\n",
              "    </tr>\n",
              "    <tr>\n",
              "      <th>14</th>\n",
              "      <td>Assalomu alaykum. Bizga quyidagi ma'lumotlarni...</td>\n",
              "      <td>554</td>\n",
              "    </tr>\n",
              "    <tr>\n",
              "      <th>15</th>\n",
              "      <td>Assalomu alaykum. To'lov raqamini yozib yubori...</td>\n",
              "      <td>341</td>\n",
              "    </tr>\n",
              "    <tr>\n",
              "      <th>16</th>\n",
              "      <td>Assalomu alaykum. Afsuski yoq.</td>\n",
              "      <td>266</td>\n",
              "    </tr>\n",
              "    <tr>\n",
              "      <th>17</th>\n",
              "      <td>Assalomu alaykum. Hurmatli mijoz, to'lovingiz ...</td>\n",
              "      <td>261</td>\n",
              "    </tr>\n",
              "    <tr>\n",
              "      <th>18</th>\n",
              "      <td>Assalomu alaykum. Hurmatli mijoz, tekshirib o'...</td>\n",
              "      <td>252</td>\n",
              "    </tr>\n",
              "    <tr>\n",
              "      <th>19</th>\n",
              "      <td>Assalomu alaykum! Hurmatli mijoz, tizimda prof...</td>\n",
              "      <td>130</td>\n",
              "    </tr>\n",
              "    <tr>\n",
              "      <th>20</th>\n",
              "      <td>Assalomu alaykum. Hurmatli mijoz, e'tiboringiz...</td>\n",
              "      <td>118</td>\n",
              "    </tr>\n",
              "    <tr>\n",
              "      <th>21</th>\n",
              "      <td>Assalomu alaykum.\\nTo'lovlar tarixi\\n?? KARTA ...</td>\n",
              "      <td>112</td>\n",
              "    </tr>\n",
              "    <tr>\n",
              "      <th>22</th>\n",
              "      <td>Assalomu alaykum! \\nYuqoridagi ma'lumotlar biz...</td>\n",
              "      <td>108</td>\n",
              "    </tr>\n",
              "  </tbody>\n",
              "</table>\n",
              "</div>"
            ],
            "text/plain": [
              "                                          answer_text  count\n",
              "0   Assalomu alaykum. Savolingizni aniqroq yozib y...   1529\n",
              "1   Assalomu alaykum. Xozir siz bilan bog'lanib, y...   1374\n",
              "2   Assalomu alaykum. Hurmatli mijoz, to'lov tafsi...   1299\n",
              "3              Assalomu alaykum. Bizda “To'lovlar ...   1172\n",
              "4   Assalomu alaykum. Aynan qanday xatolik bo'lmoqda?    942\n",
              "5   Assalomu alaykum. Agar kartangiz bizning tizim...    864\n",
              "6   Assalomu alaykum. Mablag'ni yuborgan mijozimiz...    851\n",
              "7                                    Salomat bo'ling.    839\n",
              "8   Assalaamu alaykum. A garda Click Pin kodingizn...    828\n",
              "9   Assalomu alaykum. Bizga hamyoni foallashtirish...    816\n",
              "10       Assalomu alaykum. Qanday yordam bera olaman?    736\n",
              "11  Assalomu alaykum! Click tizimiga ulanish uchun...    717\n",
              "12  Assalomu alaykum. Hurmatli mijoz, agarda hamyo...    620\n",
              "13  Assalomu alaykum. Botimizda “To'lovlar tarixi”...    594\n",
              "14  Assalomu alaykum. Bizga quyidagi ma'lumotlarni...    554\n",
              "15  Assalomu alaykum. To'lov raqamini yozib yubori...    341\n",
              "16                     Assalomu alaykum. Afsuski yoq.    266\n",
              "17  Assalomu alaykum. Hurmatli mijoz, to'lovingiz ...    261\n",
              "18  Assalomu alaykum. Hurmatli mijoz, tekshirib o'...    252\n",
              "19  Assalomu alaykum! Hurmatli mijoz, tizimda prof...    130\n",
              "20  Assalomu alaykum. Hurmatli mijoz, e'tiboringiz...    118\n",
              "21  Assalomu alaykum.\\nTo'lovlar tarixi\\n?? KARTA ...    112\n",
              "22  Assalomu alaykum! \\nYuqoridagi ma'lumotlar biz...    108"
            ]
          },
          "execution_count": 9,
          "metadata": {},
          "output_type": "execute_result"
        }
      ],
      "source": [
        "top_23_answers = top_23_answers.rename(columns={'feedback_text': 'count'})\n",
        "top_23_answers"
      ]
    },
    {
      "cell_type": "code",
      "execution_count": 10,
      "metadata": {
        "colab": {
          "base_uri": "https://localhost:8080/"
        },
        "id": "yrEaiwsfSzNP",
        "outputId": "83180bd7-ec5e-4f0f-8c69-e4e44c4975c3"
      },
      "outputs": [
        {
          "data": {
            "text/plain": [
              "15323"
            ]
          },
          "execution_count": 10,
          "metadata": {},
          "output_type": "execute_result"
        }
      ],
      "source": [
        "top_23_answers['count'].sum()"
      ]
    },
    {
      "cell_type": "code",
      "execution_count": 11,
      "metadata": {
        "id": "jfPBQvm1_m-y"
      },
      "outputs": [],
      "source": [
        "classess = top_23_answers['answer_text'].tolist()"
      ]
    },
    {
      "cell_type": "code",
      "execution_count": 12,
      "metadata": {
        "colab": {
          "base_uri": "https://localhost:8080/"
        },
        "id": "Si3RNlEp-GZD",
        "outputId": "4082d0c7-46cc-4c2c-8904-2b617b44fc3a"
      },
      "outputs": [
        {
          "data": {
            "text/plain": [
              "['Assalomu alaykum. Savolingizni aniqroq yozib yuboring iltimos.',\n",
              " \"Assalomu alaykum. Xozir siz bilan bog'lanib, yordam beramiz.\",\n",
              " \"Assalomu alaykum. Hurmatli mijoz, to'lov tafsilotlarini (To'lov raqami, summasi, vaqti va hokazo) bizga yuboring, tekshirib ko'ramiz.\",\n",
              " \"           Assalomu alaykum. Bizda “To'lovlar tarixi” bo'limi bor. U bo'limda CLICK tizimi orqali amalga oshirilgan to'lovlaringiz tarixi ko'rstailadi. Agar kartangizning barcha kirim va chiqimlarini ko'rmoqchi bo'lsangiz. \\n                 1. Ilova  (Click Evolution) \\n?? Sozlamalar \\nBildirishnomalar\\nKartalar bo'yicha tarix \\n                 2. Bot  (havola- clickuz)\\n?? Tarix\\nTo'lovlarni ko'rsatish\\n                 3. Sayt  (my.click.uz) \\n ?? Tarix \\nKarta bo'yicha tarix \\n               4. USSD  (*880#)  \\n  *880*00*15# - Oxirgi 15 to'lovlar holatini tekshirish \\n(Pullik xizmat. Mobil operatoringizga bog'liq)\\n   *880*00*3#- Oxirgi 3 to'lovlar holatini tekshirish- bepul\\n       Shu bo'lim orqali qilgan to'lovlaringizni ko'rsangiz bo'ladi. Bu xizmat Uzcard kartalari uchun va pullik: oyiga 1000 so'm har bir karta uchun.\",\n",
              " \"Assalomu alaykum. Aynan qanday xatolik bo'lmoqda?\",\n",
              " \"Assalomu alaykum. Agar kartangiz bizning tizimga ulangan bo'lsa, my.click.uz saytimizga kirib, kerakli kartani tanlang, va so'ng “Karta raqamini qo'rsatish” tugmasini bosing. Karta raqami to'liq ko'rsatiladi. Yoki bankingizga murojaat qilishingiz mumkin.\",\n",
              " \"Assalomu alaykum. Mablag'ni yuborgan mijozimiz bizga aynan CLICK tizimiga ulangan raqamlaridan qo'ng'iroq qilishlari lozim. Tel.raqam: +<phone>\",\n",
              " \"Salomat bo'ling.\",\n",
              " \"Assalaamu alaykum. A garda Click Pin kodingizni unutib qo'ygan bo'lsangiz shu bo'limdan to'g'irlab olsangiz bo'ladi ??\\n?? Sozlamalar\\n1) CLICK-PIN bilan tasdiqlash\\n2) CLICK-PIN ni qayta o'rnatish \\n??aynan shu bo'limni bossangiz Click Pin kodingizni yangilaysiz va sizga sms tarzda Click ulangan raqamingizga sms kod boradi (bu kodni xech kimga aytmang) so'ng tasdiqlash kodni yuborasiz va yangi Click Pin o'rnatib olasiz. \\nEslatib o'tamiz plastik kartangiz Click tizimidan uzulib qolmaydi.\",\n",
              " \"Assalomu alaykum. Bizga hamyoni foallashtirish uchun quyidagi ma'lumotlarni yuboring:\\n1. Click-hamyonning faol emasligi aks etgan skrinshot;\\n2. Click tizimiga ulangan telefon raqamingiz;\\n3. O'zingizning tug'ilgan sanangiz (pasportda ko'rsatilganidek);\\n4. Pasport seriya va oxirgi 4 PINFL raqami.\",\n",
              " 'Assalomu alaykum. Qanday yordam bera olaman?',\n",
              " \"Assalomu alaykum! Click tizimiga ulanish uchun siz birinchi navbatda PLASTIK KARTANGIZGA SMS-XABARNOMAni bankomat orqali eski raqamingizdan ochirasiz, kegin yangi raqamingizga  yoqtirasiz, so'ng Click tizimiga ulaysiz:\\n?? Sozlamalar\\n?? Hisoblarim\\n?? Yangi karta qo'shish\",\n",
              " \"Assalomu alaykum. Hurmatli mijoz, agarda hamyoningiz faol bo'lmasa bizga telegram orqali @Call_centre_click_Official murojaat qiling iltimos. Yordam beramiz.\",\n",
              " \"Assalomu alaykum. Botimizda “To'lovlar tarixi” bo'limi bor. U bo'limda CLICK tizimi orqali amalga oshirilgan to'lovlaringiz tarixi ko'rstailadi. Agar kartangizning barcha kirim va chiqimlarini ko'rmoqchi bo'lsangiz, shu bo'limda “Xizmat sozlamalari” tugmasini bosib, kartani tanlang. Bu xizmat pullik: oyiga 1000 so'm har bir karta uchun.\\nUZ Card kartalari uchun bu xizmat.\",\n",
              " \"Assalomu alaykum. Bizga quyidagi ma'lumotlarni yuboring:\\n1. Click-hamyonning faol emasligi aks etgan skrinshot;\\n2. Click tizimiga ulangan telefon raqamingiz;\\n3. O'zingizning tug'ilgan sanangiz (pasportda ko'rsatilganidek).\",\n",
              " \"Assalomu alaykum. To'lov raqamini yozib yuboring, iltimos.\",\n",
              " 'Assalomu alaykum. Afsuski yoq.',\n",
              " \"Assalomu alaykum. Hurmatli mijoz, to'lovingiz kutish xolatida ekan. Biroz kutishingizni so'raymiz, yani bu to'lovingiz o'tadi yoki qaytadi plastik kartangizga.\",\n",
              " \"Assalomu alaykum. Hurmatli mijoz, tekshirib o'tamiz to'lovingizni, agarda yechilgan bo'lsa ertaga kun davomida plastik kartangizga qaytarib beriladi. Noqulayliklar uchun uzr so'raymiz.\",\n",
              " \"Assalomu alaykum! Hurmatli mijoz, tizimda profilaktika ishlari olib borilayotganligi sababdan vaqtincha to'lov va o'tkazmalarni amalga oshirish imkoni mavjud emas. Tez orada bu profilaktika ishlari o'z nihoyasiga yetadi va to'lovlar ishga tushadi. Keltirilgan noqulayliklar uchun uzur so'raymiz.\",\n",
              " \"Assalomu alaykum. Hurmatli mijoz, e'tiboringiz va taklifingiz uchun katta rahmat. Taklifingizni albatta mutaxasislarimizga etkazib qo'yamiz.\",\n",
              " \"Assalomu alaykum.\\nTo'lovlar tarixi\\n?? KARTA BO'YICHA TARIX XIZMATI YOQILMAGAN\\nFaqat CLICK tizimi orqali amalga oshirilgan to'lovlarni ko'rishingiz mumkin. Xizmatni yoqish/o'chirish uchun Xizmat sozlamalari bo'limiga o'ting:\\n?? Xizmat sozlamalari\\n?? Karta bo'yicha tarix\\n?? Ushbu xizmat Sizning kartangiz uchun sarf-harajatlar va tushumlarning to'liq tarixini ko'rish imkonini beradi (CLICK tizimidan tashqari operatsiyalar bilan birgalikda).\\n??XIZMAT HAQI BIR OYGA HAR BIR KARTA UCHUN - 1'000 SO'M\\n? - xizmat yoqilgan\\n? - xizmat o'chirilgan\\nKartani tanlang.\",\n",
              " \"Assalomu alaykum! \\nYuqoridagi ma'lumotlar bizga tegishli emas. Xavfsizligingiz uchun amal qilish muddati va  karta raqamini hech kimga aytmaslikni, shuningdek SMS orqali tasdiqlash kodini yubormaslikni maslahat beramiz. Firibgarlardan ehtiyot bo'ling.\"]"
            ]
          },
          "execution_count": 12,
          "metadata": {},
          "output_type": "execute_result"
        }
      ],
      "source": [
        "classess"
      ]
    },
    {
      "cell_type": "code",
      "execution_count": 18,
      "metadata": {
        "id": "dhNHcLMjqT1s"
      },
      "outputs": [],
      "source": [
        "df = data[data['answer_text'].isin(classess)].reset_index(drop=True).groupby('answer_text').head(600)\n",
        "df = df.dropna()"
      ]
    },
    {
      "cell_type": "code",
      "execution_count": 19,
      "metadata": {
        "colab": {
          "base_uri": "https://localhost:8080/"
        },
        "id": "gq_pwWFsa18K",
        "outputId": "305d6b16-a584-4435-9fa6-0f21be8d834e"
      },
      "outputs": [
        {
          "data": {
            "text/plain": [
              "array([     5,      6,     15, ..., 150790, 151215, 151378], dtype=int64)"
            ]
          },
          "execution_count": 19,
          "metadata": {},
          "output_type": "execute_result"
        }
      ],
      "source": [
        "df['id'].unique()"
      ]
    },
    {
      "cell_type": "code",
      "execution_count": 20,
      "metadata": {
        "colab": {
          "base_uri": "https://localhost:8080/",
          "height": 424
        },
        "id": "ZW7ffLKSbER9",
        "outputId": "1a6b0623-a363-4591-ae51-97da0c35e45a"
      },
      "outputs": [
        {
          "data": {
            "text/html": [
              "<div>\n",
              "<style scoped>\n",
              "    .dataframe tbody tr th:only-of-type {\n",
              "        vertical-align: middle;\n",
              "    }\n",
              "\n",
              "    .dataframe tbody tr th {\n",
              "        vertical-align: top;\n",
              "    }\n",
              "\n",
              "    .dataframe thead th {\n",
              "        text-align: right;\n",
              "    }\n",
              "</style>\n",
              "<table border=\"1\" class=\"dataframe\">\n",
              "  <thead>\n",
              "    <tr style=\"text-align: right;\">\n",
              "      <th></th>\n",
              "      <th>id</th>\n",
              "      <th>feedback_text</th>\n",
              "      <th>answer_text</th>\n",
              "    </tr>\n",
              "  </thead>\n",
              "  <tbody>\n",
              "    <tr>\n",
              "      <th>0</th>\n",
              "      <td>5</td>\n",
              "      <td>Töğirlab  bera olasizlami</td>\n",
              "      <td>Assalomu alaykum. Savolingizni aniqroq yozib y...</td>\n",
              "    </tr>\n",
              "    <tr>\n",
              "      <th>1</th>\n",
              "      <td>6</td>\n",
              "      <td>Pul oʻtkazayotgandim pul oʻtyabdi deb turibdi</td>\n",
              "      <td>Assalomu alaykum. Hurmatli mijoz, to'lovingiz ...</td>\n",
              "    </tr>\n",
              "    <tr>\n",
              "      <th>2</th>\n",
              "      <td>15</td>\n",
              "      <td>Firibgarlar kim</td>\n",
              "      <td>Assalomu alaykum. Savolingizni aniqroq yozib y...</td>\n",
              "    </tr>\n",
              "    <tr>\n",
              "      <th>3</th>\n",
              "      <td>18</td>\n",
              "      <td>Mani shotimdan pul yecildi digan xabar keldi l...</td>\n",
              "      <td>Assalomu alaykum. Xozir siz bilan bog'lanib, y...</td>\n",
              "    </tr>\n",
              "    <tr>\n",
              "      <th>4</th>\n",
              "      <td>23</td>\n",
              "      <td>Pul tushmadi ku</td>\n",
              "      <td>Assalomu alaykum. Savolingizni aniqroq yozib y...</td>\n",
              "    </tr>\n",
              "    <tr>\n",
              "      <th>...</th>\n",
              "      <td>...</td>\n",
              "      <td>...</td>\n",
              "      <td>...</td>\n",
              "    </tr>\n",
              "    <tr>\n",
              "      <th>15288</th>\n",
              "      <td>150688</td>\n",
              "      <td>Siz CLICK UZ Aksiyasida 3million  Sóm Yutib Ol...</td>\n",
              "      <td>Assalomu alaykum! \\nYuqoridagi ma'lumotlar biz...</td>\n",
              "    </tr>\n",
              "    <tr>\n",
              "      <th>15290</th>\n",
              "      <td>150757</td>\n",
              "      <td>bir firibgarga pul ko'chirdim ishni bajarib be...</td>\n",
              "      <td>Assalomu alaykum. Afsuski yoq.</td>\n",
              "    </tr>\n",
              "    <tr>\n",
              "      <th>15295</th>\n",
              "      <td>150790</td>\n",
              "      <td>Pubg mobile oyiniga 67 ming som miqdorda tolov...</td>\n",
              "      <td>Assalomu alaykum. To'lov raqamini yozib yubori...</td>\n",
              "    </tr>\n",
              "    <tr>\n",
              "      <th>15307</th>\n",
              "      <td>151215</td>\n",
              "      <td>https://xalqbank-uz.rasmiykredit.ru/card/21123...</td>\n",
              "      <td>Assalomu alaykum! \\nYuqoridagi ma'lumotlar biz...</td>\n",
              "    </tr>\n",
              "    <tr>\n",
              "      <th>15309</th>\n",
              "      <td>151378</td>\n",
              "      <td>Mening kartamdan oxirgi 2 ta tolov mening rozi...</td>\n",
              "      <td>Assalomu alaykum. To'lov raqamini yozib yubori...</td>\n",
              "    </tr>\n",
              "  </tbody>\n",
              "</table>\n",
              "<p>10536 rows × 3 columns</p>\n",
              "</div>"
            ],
            "text/plain": [
              "           id                                      feedback_text  \\\n",
              "0           5                          Töğirlab  bera olasizlami   \n",
              "1           6      Pul oʻtkazayotgandim pul oʻtyabdi deb turibdi   \n",
              "2          15                                    Firibgarlar kim   \n",
              "3          18  Mani shotimdan pul yecildi digan xabar keldi l...   \n",
              "4          23                                    Pul tushmadi ku   \n",
              "...       ...                                                ...   \n",
              "15288  150688  Siz CLICK UZ Aksiyasida 3million  Sóm Yutib Ol...   \n",
              "15290  150757  bir firibgarga pul ko'chirdim ishni bajarib be...   \n",
              "15295  150790  Pubg mobile oyiniga 67 ming som miqdorda tolov...   \n",
              "15307  151215  https://xalqbank-uz.rasmiykredit.ru/card/21123...   \n",
              "15309  151378  Mening kartamdan oxirgi 2 ta tolov mening rozi...   \n",
              "\n",
              "                                             answer_text  \n",
              "0      Assalomu alaykum. Savolingizni aniqroq yozib y...  \n",
              "1      Assalomu alaykum. Hurmatli mijoz, to'lovingiz ...  \n",
              "2      Assalomu alaykum. Savolingizni aniqroq yozib y...  \n",
              "3      Assalomu alaykum. Xozir siz bilan bog'lanib, y...  \n",
              "4      Assalomu alaykum. Savolingizni aniqroq yozib y...  \n",
              "...                                                  ...  \n",
              "15288  Assalomu alaykum! \\nYuqoridagi ma'lumotlar biz...  \n",
              "15290                     Assalomu alaykum. Afsuski yoq.  \n",
              "15295  Assalomu alaykum. To'lov raqamini yozib yubori...  \n",
              "15307  Assalomu alaykum! \\nYuqoridagi ma'lumotlar biz...  \n",
              "15309  Assalomu alaykum. To'lov raqamini yozib yubori...  \n",
              "\n",
              "[10536 rows x 3 columns]"
            ]
          },
          "execution_count": 20,
          "metadata": {},
          "output_type": "execute_result"
        }
      ],
      "source": [
        "df"
      ]
    },
    {
      "cell_type": "code",
      "execution_count": 21,
      "metadata": {
        "id": "avdt1qj-9VCK"
      },
      "outputs": [],
      "source": [
        "REPLACE_BY_SPACE_RE = re.compile('[/(){}\\[\\]\\|@,;]')\n",
        "BAD_SYMBOLS_RE = re.compile('[^0-9a-zа-яё #+_]')\n",
        "# STOPWORDS = set(stopwords.words('english'))\n",
        "\n",
        "def clean_text(text):\n",
        "    \"\"\"\n",
        "        text: a string\n",
        "\n",
        "        return: modified initial string\n",
        "    \"\"\"\n",
        "    text = text.lower() # lowercase text\n",
        "    text = REPLACE_BY_SPACE_RE.sub(' ', text) # replace REPLACE_BY_SPACE_RE symbols by space in text\n",
        "    text = BAD_SYMBOLS_RE.sub('', text) # delete symbols which are in BAD_SYMBOLS_RE from text\n",
        "    # text = ' '.join(word for word in text.split() if word not in STOPWORDS) # delete stopwors from text\n",
        "    return text\n",
        "\n",
        "df['feedback_text'] = df['feedback_text'].apply(clean_text)\n",
        "\n",
        " # df['answer_text'] = df['answer_text'].apply(lambda x: classess.index(x))\n",
        "\n",
        " # onehot = pd.get_dummies(df['id'])\n",
        "df = df.drop('id', axis=1)\n",
        " # df = df.join(onehot)\n"
      ]
    },
    {
      "cell_type": "code",
      "execution_count": 22,
      "metadata": {
        "colab": {
          "base_uri": "https://localhost:8080/",
          "height": 424
        },
        "id": "-kHREjOTDR2g",
        "outputId": "fde7a199-794c-46b1-bf1a-2c778d0c4178"
      },
      "outputs": [
        {
          "data": {
            "text/html": [
              "<div>\n",
              "<style scoped>\n",
              "    .dataframe tbody tr th:only-of-type {\n",
              "        vertical-align: middle;\n",
              "    }\n",
              "\n",
              "    .dataframe tbody tr th {\n",
              "        vertical-align: top;\n",
              "    }\n",
              "\n",
              "    .dataframe thead th {\n",
              "        text-align: right;\n",
              "    }\n",
              "</style>\n",
              "<table border=\"1\" class=\"dataframe\">\n",
              "  <thead>\n",
              "    <tr style=\"text-align: right;\">\n",
              "      <th></th>\n",
              "      <th>feedback_text</th>\n",
              "      <th>answer_text</th>\n",
              "    </tr>\n",
              "  </thead>\n",
              "  <tbody>\n",
              "    <tr>\n",
              "      <th>0</th>\n",
              "      <td>tirlab  bera olasizlami</td>\n",
              "      <td>Assalomu alaykum. Savolingizni aniqroq yozib y...</td>\n",
              "    </tr>\n",
              "    <tr>\n",
              "      <th>1</th>\n",
              "      <td>pul otkazayotgandim pul otyabdi deb turibdi</td>\n",
              "      <td>Assalomu alaykum. Hurmatli mijoz, to'lovingiz ...</td>\n",
              "    </tr>\n",
              "    <tr>\n",
              "      <th>2</th>\n",
              "      <td>firibgarlar kim</td>\n",
              "      <td>Assalomu alaykum. Savolingizni aniqroq yozib y...</td>\n",
              "    </tr>\n",
              "    <tr>\n",
              "      <th>3</th>\n",
              "      <td>mani shotimdan pul yecildi digan xabar keldi l...</td>\n",
              "      <td>Assalomu alaykum. Xozir siz bilan bog'lanib, y...</td>\n",
              "    </tr>\n",
              "    <tr>\n",
              "      <th>4</th>\n",
              "      <td>pul tushmadi ku</td>\n",
              "      <td>Assalomu alaykum. Savolingizni aniqroq yozib y...</td>\n",
              "    </tr>\n",
              "    <tr>\n",
              "      <th>...</th>\n",
              "      <td>...</td>\n",
              "      <td>...</td>\n",
              "    </tr>\n",
              "    <tr>\n",
              "      <th>15288</th>\n",
              "      <td>siz click uz aksiyasida 3million  sm yutib old...</td>\n",
              "      <td>Assalomu alaykum! \\nYuqoridagi ma'lumotlar biz...</td>\n",
              "    </tr>\n",
              "    <tr>\n",
              "      <th>15290</th>\n",
              "      <td>bir firibgarga pul kochirdim ishni bajarib ber...</td>\n",
              "      <td>Assalomu alaykum. Afsuski yoq.</td>\n",
              "    </tr>\n",
              "    <tr>\n",
              "      <th>15295</th>\n",
              "      <td>pubg mobile oyiniga 67 ming som miqdorda tolov...</td>\n",
              "      <td>Assalomu alaykum. To'lov raqamini yozib yubori...</td>\n",
              "    </tr>\n",
              "    <tr>\n",
              "      <th>15307</th>\n",
              "      <td>https  xalqbankuzrasmiykreditru card 211237061</td>\n",
              "      <td>Assalomu alaykum! \\nYuqoridagi ma'lumotlar biz...</td>\n",
              "    </tr>\n",
              "    <tr>\n",
              "      <th>15309</th>\n",
              "      <td>mening kartamdan oxirgi 2 ta tolov mening rozi...</td>\n",
              "      <td>Assalomu alaykum. To'lov raqamini yozib yubori...</td>\n",
              "    </tr>\n",
              "  </tbody>\n",
              "</table>\n",
              "<p>10536 rows × 2 columns</p>\n",
              "</div>"
            ],
            "text/plain": [
              "                                           feedback_text  \\\n",
              "0                                tirlab  bera olasizlami   \n",
              "1            pul otkazayotgandim pul otyabdi deb turibdi   \n",
              "2                                        firibgarlar kim   \n",
              "3      mani shotimdan pul yecildi digan xabar keldi l...   \n",
              "4                                        pul tushmadi ku   \n",
              "...                                                  ...   \n",
              "15288  siz click uz aksiyasida 3million  sm yutib old...   \n",
              "15290  bir firibgarga pul kochirdim ishni bajarib ber...   \n",
              "15295  pubg mobile oyiniga 67 ming som miqdorda tolov...   \n",
              "15307     https  xalqbankuzrasmiykreditru card 211237061   \n",
              "15309  mening kartamdan oxirgi 2 ta tolov mening rozi...   \n",
              "\n",
              "                                             answer_text  \n",
              "0      Assalomu alaykum. Savolingizni aniqroq yozib y...  \n",
              "1      Assalomu alaykum. Hurmatli mijoz, to'lovingiz ...  \n",
              "2      Assalomu alaykum. Savolingizni aniqroq yozib y...  \n",
              "3      Assalomu alaykum. Xozir siz bilan bog'lanib, y...  \n",
              "4      Assalomu alaykum. Savolingizni aniqroq yozib y...  \n",
              "...                                                  ...  \n",
              "15288  Assalomu alaykum! \\nYuqoridagi ma'lumotlar biz...  \n",
              "15290                     Assalomu alaykum. Afsuski yoq.  \n",
              "15295  Assalomu alaykum. To'lov raqamini yozib yubori...  \n",
              "15307  Assalomu alaykum! \\nYuqoridagi ma'lumotlar biz...  \n",
              "15309  Assalomu alaykum. To'lov raqamini yozib yubori...  \n",
              "\n",
              "[10536 rows x 2 columns]"
            ]
          },
          "execution_count": 22,
          "metadata": {},
          "output_type": "execute_result"
        }
      ],
      "source": [
        "df"
      ]
    },
    {
      "cell_type": "code",
      "execution_count": 23,
      "metadata": {
        "colab": {
          "base_uri": "https://localhost:8080/"
        },
        "id": "JKxFCuPeKyse",
        "outputId": "88f93133-2afa-498a-845f-d45909f4f6a3"
      },
      "outputs": [
        {
          "data": {
            "text/plain": [
              "10536"
            ]
          },
          "execution_count": 23,
          "metadata": {},
          "output_type": "execute_result"
        }
      ],
      "source": [
        "len(df)"
      ]
    },
    {
      "cell_type": "code",
      "execution_count": 24,
      "metadata": {
        "id": "7WzB-MejLB11"
      },
      "outputs": [],
      "source": [
        "from sklearn.feature_extraction.text import TfidfVectorizer"
      ]
    },
    {
      "cell_type": "code",
      "execution_count": 25,
      "metadata": {
        "id": "8s81fDukL4vd"
      },
      "outputs": [],
      "source": [
        "vectorizer = TfidfVectorizer()"
      ]
    },
    {
      "cell_type": "code",
      "execution_count": 26,
      "metadata": {
        "id": "wAXkW3v-L8UG"
      },
      "outputs": [],
      "source": [
        "X = vectorizer.fit_transform(df['feedback_text'])\n",
        "y = df['answer_text']"
      ]
    },
    {
      "cell_type": "code",
      "execution_count": 27,
      "metadata": {
        "id": "khwOAfdBMD3f"
      },
      "outputs": [],
      "source": [
        "X_train, X_test, y_train, y_test = train_test_split(X, y, test_size=0.3, random_state = 42)"
      ]
    },
    {
      "cell_type": "markdown",
      "metadata": {
        "id": "JJObEGUxT4Zh"
      },
      "source": [
        "## CatBoost"
      ]
    },
    {
      "cell_type": "code",
      "execution_count": 28,
      "metadata": {
        "id": "MhlYbo4wT7Ap"
      },
      "outputs": [],
      "source": [
        "from catboost import CatBoostClassifier, Pool"
      ]
    },
    {
      "cell_type": "code",
      "execution_count": 29,
      "metadata": {
        "id": "--oKCpinVHJU"
      },
      "outputs": [],
      "source": [
        "X = vectorizer.fit_transform(df['feedback_text'])\n",
        "y = df['answer_text']\n"
      ]
    },
    {
      "cell_type": "code",
      "execution_count": 30,
      "metadata": {
        "id": "2-NumLXNVLkh"
      },
      "outputs": [],
      "source": [
        "X_train, X_test, y_train, y_test = train_test_split(X, y, test_size=0.3, random_state = 42)"
      ]
    },
    {
      "cell_type": "code",
      "execution_count": 31,
      "metadata": {
        "id": "17tk61ewVXqU"
      },
      "outputs": [],
      "source": [
        "test_data = catboost_pool = Pool(X_test,\n",
        "                                 y_test)"
      ]
    },
    {
      "cell_type": "code",
      "execution_count": 32,
      "metadata": {},
      "outputs": [],
      "source": [
        "tunned_model = CatBoostClassifier(\n",
        "    random_seed=70,\n",
        "    depth=5,\n",
        "    loss_function='MultiClass',\n",
        "    iterations=10000,\n",
        "    learning_rate=0.05,\n",
        "    l2_leaf_reg=3,\n",
        "    bagging_temperature=1,\n",
        "    random_strength=1,\n",
        "    one_hot_max_size=2,\n",
        "    leaf_estimation_method='Newton' \n",
        ")\n",
        "\n",
        "tunned_model.fit(\n",
        "    X_train, y_train,\n",
        "    verbose=False,\n",
        "    eval_set=(X_test, y_test),\n",
        "\n",
        ")"
      ]
    },
    {
      "cell_type": "code",
      "execution_count": 77,
      "metadata": {},
      "outputs": [
        {
          "data": {
            "text/plain": [
              "0.6927777777777778"
            ]
          },
          "execution_count": 77,
          "metadata": {},
          "output_type": "execute_result"
        }
      ],
      "source": [
        "tunned_model.score(X_test, y_test)"
      ]
    },
    {
      "cell_type": "code",
      "execution_count": 78,
      "metadata": {},
      "outputs": [
        {
          "name": "stdout",
          "output_type": "stream",
          "text": [
            "Learning rate set to 0.010619\n",
            "0:\tlearn: 2.2907181\ttotal: 335ms\tremaining: 1h 7m 1s\n",
            "100:\tlearn: 1.8822084\ttotal: 40.7s\tremaining: 1h 19m 59s\n",
            "200:\tlearn: 1.7315878\ttotal: 1m 26s\tremaining: 1h 24m 45s\n",
            "300:\tlearn: 1.6410662\ttotal: 2m 17s\tremaining: 1h 29m 3s\n",
            "400:\tlearn: 1.5732865\ttotal: 3m 12s\tremaining: 1h 32m 55s\n",
            "500:\tlearn: 1.5195992\ttotal: 4m 2s\tremaining: 1h 32m 54s\n",
            "600:\tlearn: 1.4747859\ttotal: 4m 56s\tremaining: 1h 33m 41s\n",
            "700:\tlearn: 1.4358809\ttotal: 5m 54s\tremaining: 1h 35m 17s\n",
            "800:\tlearn: 1.4011466\ttotal: 6m 47s\tremaining: 1h 35m 9s\n",
            "900:\tlearn: 1.3690530\ttotal: 7m 39s\tremaining: 1h 34m 29s\n",
            "1000:\tlearn: 1.3409034\ttotal: 8m 21s\tremaining: 1h 32m 1s\n",
            "1100:\tlearn: 1.3158184\ttotal: 9m 5s\tremaining: 1h 30m 6s\n",
            "1200:\tlearn: 1.2929751\ttotal: 9m 51s\tremaining: 1h 28m 42s\n",
            "1300:\tlearn: 1.2720974\ttotal: 10m 40s\tremaining: 1h 27m 50s\n",
            "1400:\tlearn: 1.2532731\ttotal: 11m 33s\tremaining: 1h 27m 29s\n",
            "1500:\tlearn: 1.2363737\ttotal: 12m 29s\tremaining: 1h 27m 24s\n",
            "1600:\tlearn: 1.2209476\ttotal: 13m 28s\tremaining: 1h 27m 33s\n",
            "1700:\tlearn: 1.2069775\ttotal: 14m 27s\tremaining: 1h 27m 33s\n",
            "1800:\tlearn: 1.1946197\ttotal: 15m 25s\tremaining: 1h 27m 26s\n",
            "1900:\tlearn: 1.1835344\ttotal: 16m 24s\tremaining: 1h 27m 12s\n",
            "2000:\tlearn: 1.1722089\ttotal: 17m 23s\tremaining: 1h 26m 59s\n",
            "2100:\tlearn: 1.1619482\ttotal: 18m 23s\tremaining: 1h 26m 39s\n",
            "2200:\tlearn: 1.1522066\ttotal: 19m 21s\tremaining: 1h 26m 15s\n",
            "2300:\tlearn: 1.1424357\ttotal: 20m 16s\tremaining: 1h 25m 30s\n",
            "2400:\tlearn: 1.1341939\ttotal: 21m 1s\tremaining: 1h 24m 8s\n",
            "2500:\tlearn: 1.1261761\ttotal: 21m 43s\tremaining: 1h 22m 34s\n",
            "2600:\tlearn: 1.1181317\ttotal: 22m 28s\tremaining: 1h 21m 15s\n",
            "2700:\tlearn: 1.1110994\ttotal: 23m 14s\tremaining: 1h 20m 4s\n",
            "2800:\tlearn: 1.1042029\ttotal: 24m 2s\tremaining: 1h 18m 59s\n",
            "2900:\tlearn: 1.0973370\ttotal: 24m 53s\tremaining: 1h 18m 6s\n",
            "3000:\tlearn: 1.0910774\ttotal: 25m 48s\tremaining: 1h 17m 27s\n",
            "3100:\tlearn: 1.0857098\ttotal: 26m 47s\tremaining: 1h 16m 56s\n",
            "3200:\tlearn: 1.0798208\ttotal: 27m 46s\tremaining: 1h 16m 23s\n",
            "3300:\tlearn: 1.0743234\ttotal: 28m 45s\tremaining: 1h 15m 49s\n",
            "3400:\tlearn: 1.0692284\ttotal: 29m 44s\tremaining: 1h 15m 14s\n",
            "3500:\tlearn: 1.0637060\ttotal: 30m 43s\tremaining: 1h 14m 38s\n",
            "3600:\tlearn: 1.0582702\ttotal: 31m 42s\tremaining: 1h 13m 59s\n",
            "3700:\tlearn: 1.0537326\ttotal: 32m 42s\tremaining: 1h 13m 23s\n",
            "3800:\tlearn: 1.0492070\ttotal: 33m 45s\tremaining: 1h 12m 50s\n",
            "3900:\tlearn: 1.0450456\ttotal: 34m 41s\tremaining: 1h 12m 4s\n",
            "4000:\tlearn: 1.0408425\ttotal: 35m 38s\tremaining: 1h 11m 18s\n",
            "4100:\tlearn: 1.0368649\ttotal: 36m 36s\tremaining: 1h 10m 32s\n",
            "4200:\tlearn: 1.0326977\ttotal: 37m 32s\tremaining: 1h 9m 44s\n",
            "4300:\tlearn: 1.0289119\ttotal: 38m 29s\tremaining: 1h 8m 56s\n",
            "4400:\tlearn: 1.0251064\ttotal: 39m 26s\tremaining: 1h 8m 7s\n",
            "4500:\tlearn: 1.0217486\ttotal: 40m 23s\tremaining: 1h 7m 18s\n",
            "4600:\tlearn: 1.0180789\ttotal: 41m 19s\tremaining: 1h 6m 28s\n",
            "4700:\tlearn: 1.0143671\ttotal: 42m 15s\tremaining: 1h 5m 38s\n",
            "4800:\tlearn: 1.0110712\ttotal: 43m 12s\tremaining: 1h 4m 48s\n",
            "4900:\tlearn: 1.0077328\ttotal: 44m 8s\tremaining: 1h 3m 57s\n",
            "5000:\tlearn: 1.0044817\ttotal: 45m 4s\tremaining: 1h 3m 6s\n",
            "5100:\tlearn: 1.0012961\ttotal: 46m 47s\tremaining: 1h 3m 18s\n",
            "5200:\tlearn: 0.9981621\ttotal: 47m 35s\tremaining: 1h 2m 14s\n",
            "5300:\tlearn: 0.9954640\ttotal: 48m 26s\tremaining: 1h 1m 14s\n",
            "5400:\tlearn: 0.9924235\ttotal: 49m 57s\tremaining: 1h 1m 3s\n",
            "5500:\tlearn: 0.9896450\ttotal: 50m 49s\tremaining: 1h 4s\n",
            "5600:\tlearn: 0.9868438\ttotal: 51m 47s\tremaining: 59m 11s\n",
            "5700:\tlearn: 0.9840045\ttotal: 52m 44s\tremaining: 58m 17s\n",
            "5800:\tlearn: 0.9809849\ttotal: 54m 24s\tremaining: 58m 10s\n",
            "5900:\tlearn: 0.9786568\ttotal: 55m 17s\tremaining: 57m 9s\n",
            "6000:\tlearn: 0.9759503\ttotal: 56m 12s\tremaining: 56m 12s\n",
            "6100:\tlearn: 0.9733547\ttotal: 57m 10s\tremaining: 55m 17s\n",
            "6200:\tlearn: 0.9704742\ttotal: 58m 9s\tremaining: 54m 23s\n",
            "6300:\tlearn: 0.9679088\ttotal: 59m 6s\tremaining: 53m 29s\n",
            "6400:\tlearn: 0.9656111\ttotal: 1h 5s\tremaining: 52m 34s\n",
            "6500:\tlearn: 0.9629203\ttotal: 1h 1m 12s\tremaining: 51m 47s\n",
            "6600:\tlearn: 0.9606814\ttotal: 1h 2m 10s\tremaining: 50m 52s\n",
            "6700:\tlearn: 0.9583261\ttotal: 1h 3m 9s\tremaining: 49m 57s\n",
            "6800:\tlearn: 0.9562080\ttotal: 1h 4m 2s\tremaining: 48m 58s\n",
            "6900:\tlearn: 0.9537156\ttotal: 1h 4m 47s\tremaining: 47m 53s\n",
            "7000:\tlearn: 0.9512363\ttotal: 1h 5m 30s\tremaining: 46m 47s\n",
            "7100:\tlearn: 0.9489127\ttotal: 1h 6m 15s\tremaining: 45m 44s\n",
            "7200:\tlearn: 0.9467877\ttotal: 1h 7m 3s\tremaining: 44m 42s\n",
            "7300:\tlearn: 0.9444800\ttotal: 1h 7m 54s\tremaining: 43m 43s\n",
            "7400:\tlearn: 0.9422123\ttotal: 1h 8m 49s\tremaining: 42m 46s\n",
            "7500:\tlearn: 0.9400565\ttotal: 1h 9m 47s\tremaining: 41m 52s\n",
            "7600:\tlearn: 0.9380824\ttotal: 1h 10m 46s\tremaining: 40m 58s\n",
            "7700:\tlearn: 0.9356608\ttotal: 1h 11m 44s\tremaining: 40m 4s\n",
            "7800:\tlearn: 0.9336623\ttotal: 1h 12m 43s\tremaining: 39m 9s\n",
            "7900:\tlearn: 0.9318226\ttotal: 1h 13m 42s\tremaining: 38m 15s\n",
            "8000:\tlearn: 0.9301606\ttotal: 1h 14m 40s\tremaining: 37m 20s\n",
            "8100:\tlearn: 0.9281129\ttotal: 1h 15m 46s\tremaining: 36m 29s\n",
            "8200:\tlearn: 0.9264340\ttotal: 1h 16m 58s\tremaining: 35m 40s\n",
            "8300:\tlearn: 0.9247532\ttotal: 1h 18m 3s\tremaining: 34m 47s\n",
            "8400:\tlearn: 0.9230329\ttotal: 1h 19m 4s\tremaining: 33m 53s\n",
            "8500:\tlearn: 0.9212173\ttotal: 1h 20m 4s\tremaining: 32m 58s\n",
            "8600:\tlearn: 0.9196564\ttotal: 1h 20m 54s\tremaining: 31m 59s\n",
            "8700:\tlearn: 0.9179640\ttotal: 1h 21m 52s\tremaining: 31m 3s\n",
            "8800:\tlearn: 0.9164122\ttotal: 1h 23m 4s\tremaining: 30m 12s\n",
            "8900:\tlearn: 0.9146630\ttotal: 1h 24m 16s\tremaining: 29m 21s\n",
            "9000:\tlearn: 0.9128677\ttotal: 1h 25m 21s\tremaining: 28m 27s\n",
            "9100:\tlearn: 0.9112715\ttotal: 1h 26m 19s\tremaining: 27m 30s\n",
            "9200:\tlearn: 0.9097534\ttotal: 1h 27m 18s\tremaining: 26m 34s\n",
            "9300:\tlearn: 0.9081282\ttotal: 1h 28m 15s\tremaining: 25m 37s\n",
            "9400:\tlearn: 0.9065299\ttotal: 1h 29m 13s\tremaining: 24m 40s\n",
            "9500:\tlearn: 0.9045908\ttotal: 1h 30m 10s\tremaining: 23m 43s\n",
            "9600:\tlearn: 0.9029453\ttotal: 1h 31m 8s\tremaining: 22m 47s\n",
            "9700:\tlearn: 0.9013584\ttotal: 1h 32m 7s\tremaining: 21m 50s\n",
            "9800:\tlearn: 0.8997836\ttotal: 1h 33m 5s\tremaining: 20m 53s\n",
            "9900:\tlearn: 0.8980021\ttotal: 1h 34m 3s\tremaining: 19m 56s\n",
            "10000:\tlearn: 0.8963153\ttotal: 1h 35m 1s\tremaining: 19m\n",
            "10100:\tlearn: 0.8948020\ttotal: 1h 35m 59s\tremaining: 18m 3s\n",
            "10200:\tlearn: 0.8933179\ttotal: 1h 36m 57s\tremaining: 17m 6s\n",
            "10300:\tlearn: 0.8917851\ttotal: 1h 37m 55s\tremaining: 16m 9s\n",
            "10400:\tlearn: 0.8902548\ttotal: 1h 38m 53s\tremaining: 15m 12s\n",
            "10500:\tlearn: 0.8888652\ttotal: 1h 39m 51s\tremaining: 14m 15s\n",
            "10600:\tlearn: 0.8875149\ttotal: 1h 40m 50s\tremaining: 13m 18s\n",
            "10700:\tlearn: 0.8860202\ttotal: 1h 41m 46s\tremaining: 12m 21s\n",
            "10800:\tlearn: 0.8846141\ttotal: 1h 42m 42s\tremaining: 11m 24s\n",
            "10900:\tlearn: 0.8830699\ttotal: 1h 43m 39s\tremaining: 10m 27s\n",
            "11000:\tlearn: 0.8813535\ttotal: 1h 44m 35s\tremaining: 9m 30s\n",
            "11100:\tlearn: 0.8798468\ttotal: 1h 45m 31s\tremaining: 8m 32s\n",
            "11200:\tlearn: 0.8781970\ttotal: 1h 46m 29s\tremaining: 7m 35s\n",
            "11300:\tlearn: 0.8769139\ttotal: 1h 47m 25s\tremaining: 6m 38s\n",
            "11400:\tlearn: 0.8756131\ttotal: 1h 48m 21s\tremaining: 5m 41s\n",
            "11500:\tlearn: 0.8740914\ttotal: 1h 49m 19s\tremaining: 4m 44s\n",
            "11600:\tlearn: 0.8727719\ttotal: 1h 50m 16s\tremaining: 3m 47s\n",
            "11700:\tlearn: 0.8716047\ttotal: 1h 51m 12s\tremaining: 2m 50s\n",
            "11800:\tlearn: 0.8701676\ttotal: 1h 52m 9s\tremaining: 1m 53s\n",
            "11900:\tlearn: 0.8686296\ttotal: 1h 53m 5s\tremaining: 56.5s\n",
            "11999:\tlearn: 0.8672456\ttotal: 1h 54m 1s\tremaining: 0us\n"
          ]
        },
        {
          "data": {
            "text/plain": [
              "<catboost.core.CatBoostClassifier at 0x17a6aae10d0>"
            ]
          },
          "execution_count": 78,
          "metadata": {},
          "output_type": "execute_result"
        }
      ],
      "source": [
        "best_model = CatBoostClassifier(\n",
        "    random_seed=63,\n",
        "    iterations=int(tunned_model.tree_count_ * 1.2)\n",
        ")\n",
        "\n",
        "best_model.fit(\n",
        "    X, y,\n",
        "    verbose=100\n",
        ")"
      ]
    },
    {
      "cell_type": "code",
      "execution_count": 79,
      "metadata": {},
      "outputs": [
        {
          "data": {
            "text/plain": [
              "0.8172222222222222"
            ]
          },
          "execution_count": 79,
          "metadata": {},
          "output_type": "execute_result"
        }
      ],
      "source": [
        "best_model.score(X_test, y_test)"
      ]
    },
    {
      "cell_type": "code",
      "execution_count": 80,
      "metadata": {},
      "outputs": [
        {
          "name": "stdout",
          "output_type": "stream",
          "text": [
            "Predictions: [[0.25773717 0.12248449 0.05969313 ... 0.08099299 0.07616907 0.10498618]\n",
            " [0.01996764 0.01440993 0.00772766 ... 0.0076476  0.88190683 0.02609673]\n",
            " [0.29162734 0.10964077 0.06036734 ... 0.0849942  0.0696594  0.09066354]\n",
            " ...\n",
            " [0.08201032 0.06946435 0.02893892 ... 0.01834221 0.03133357 0.03833094]\n",
            " [0.31414284 0.08882619 0.13778995 ... 0.02850311 0.01701338 0.03181671]\n",
            " [0.35320891 0.1116064  0.05177317 ... 0.0751953  0.05902144 0.08134473]]\n"
          ]
        }
      ],
      "source": [
        "test_pool = Pool(X_test)\n",
        "predictions=best_model.predict_proba(test_pool)\n",
        "print(f\"Predictions: {predictions}\")"
      ]
    },
    {
      "cell_type": "code",
      "execution_count": 81,
      "metadata": {
        "colab": {
          "base_uri": "https://localhost:8080/"
        },
        "id": "PlqCLR_bU5B3",
        "outputId": "54910195-9fed-4acd-82e5-354bee733bbc"
      },
      "outputs": [],
      "source": [
        "# make the prediction using the resulting model\n",
        "preds_class = best_model.predict(test_data)\n",
        "preds_proba = best_model.predict_proba(test_data)"
      ]
    },
    {
      "cell_type": "code",
      "execution_count": 82,
      "metadata": {},
      "outputs": [],
      "source": [
        "best_model.save_model('model_name')"
      ]
    }
  ],
  "metadata": {
    "accelerator": "GPU",
    "colab": {
      "gpuType": "T4",
      "provenance": []
    },
    "kernelspec": {
      "display_name": "Python 3",
      "name": "python3"
    },
    "language_info": {
      "codemirror_mode": {
        "name": "ipython",
        "version": 3
      },
      "file_extension": ".py",
      "mimetype": "text/x-python",
      "name": "python",
      "nbconvert_exporter": "python",
      "pygments_lexer": "ipython3",
      "version": "3.11.5"
    }
  },
  "nbformat": 4,
  "nbformat_minor": 0
}
